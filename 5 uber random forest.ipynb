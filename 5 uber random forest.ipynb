{
 "cells": [
  {
   "cell_type": "code",
   "execution_count": null,
   "metadata": {},
   "outputs": [
    {
     "name": "stdout",
     "output_type": "stream",
     "text": [
      "<class 'pandas.core.frame.DataFrame'>\n",
      "RangeIndex: 200000 entries, 0 to 199999\n",
      "Data columns (total 9 columns):\n",
      " #   Column             Non-Null Count   Dtype  \n",
      "---  ------             --------------   -----  \n",
      " 0   Unnamed: 0         200000 non-null  int64  \n",
      " 1   key                200000 non-null  object \n",
      " 2   fare_amount        200000 non-null  float64\n",
      " 3   pickup_datetime    200000 non-null  object \n",
      " 4   pickup_longitude   200000 non-null  float64\n",
      " 5   pickup_latitude    200000 non-null  float64\n",
      " 6   dropoff_longitude  199999 non-null  float64\n",
      " 7   dropoff_latitude   199999 non-null  float64\n",
      " 8   passenger_count    200000 non-null  int64  \n",
      "dtypes: float64(5), int64(2), object(2)\n",
      "memory usage: 13.7+ MB\n",
      "\n",
      "MAE:5.99\n",
      "\n",
      "MSE:102.29\n",
      "\n",
      "RMSE:10.11\n"
     ]
    }
   ],
   "source": [
    "import pandas as pd\n",
    "import numpy as np\n",
    "df = pd.read_csv(r\"C:\\Users\\ganes\\Downloads\\ml\\New folder\\uber.csv\")\n",
    "df.head()\n",
    "df.info()\n",
    "df = df.drop(['Unnamed: 0', 'key'], axis =1)\n",
    "df.head()\n",
    "df.isna().sum()\n",
    "df = df.dropna(axis=0)\n",
    "df.isna().sum()\n",
    "df.shape\n",
    "df.dtypes\n",
    "df['pickup_datetime'] = pd.to_datetime(df['pickup_datetime'])\n",
    "df = df.assign(hour = df.pickup_datetime.dt.hour,\n",
    "              day = df.pickup_datetime.dt.day,\n",
    "              month = df.pickup_datetime.dt.month,\n",
    "              year = df.pickup_datetime.dt.year,\n",
    "              dayofweek = df.pickup_datetime.dt.day_of_week)\n",
    "df = df.drop(\"pickup_datetime\", axis =1)\n",
    "\n",
    "from sklearn.model_selection import train_test_split\n",
    "x = df.drop('fare_amount', axis=1)\n",
    "y=df.fare_amount\n",
    "x_train,x_test,y_train,y_test = train_test_split(x,y, test_size=0.20, random_state=42)\n",
    "\n",
    "from sklearn.linear_model import LinearRegression\n",
    "model = LinearRegression()\n",
    "model.fit(x_train,y_train)\n",
    "y_pred = model.predict(x_test)\n",
    "\n",
    "from sklearn import metrics\n",
    "mae = metrics.mean_absolute_error(y_test,y_pred)\n",
    "mse = metrics.mean_squared_error(y_test,y_pred)\n",
    "rmse = np.sqrt(mse)\n",
    "\n",
    "print(\"\\nMAE:{:.2f}\".format(mae))\n",
    "print(\"\\nMSE:{:.2f}\".format(mse))\n",
    "print(\"\\nRMSE:{:.2f}\".format(rmse))\n",
    "\n",
    "# Random Forest\n",
    "from sklearn.ensemble import RandomForestRegressor\n",
    "model = RandomForestRegressor(n_estimators=100)\n",
    "model.fit(x_train,y_train)\n",
    "y_pred = model.predict(x_test)\n",
    "mae = metrics.mean_absolute_error(y_test,y_pred)\n",
    "mse = metrics.mean_squared_error(y_test,y_pred)\n",
    "rmse = np.sqrt(mse)\n",
    "\n",
    "print(\"\\nMAE:{:.2f}\".format(mae))\n",
    "print(\"\\nMSE:{:.2f}\".format(mse))\n",
    "print(\"\\nRMSE:{:.2f}\".format(rmse))"
   ]
  },
  {
   "cell_type": "code",
   "execution_count": null,
   "metadata": {},
   "outputs": [],
   "source": []
  }
 ],
 "metadata": {
  "kernelspec": {
   "display_name": "Python 3",
   "language": "python",
   "name": "python3"
  },
  "language_info": {
   "codemirror_mode": {
    "name": "ipython",
    "version": 3
   },
   "file_extension": ".py",
   "mimetype": "text/x-python",
   "name": "python",
   "nbconvert_exporter": "python",
   "pygments_lexer": "ipython3",
   "version": "3.7.7"
  }
 },
 "nbformat": 4,
 "nbformat_minor": 4
}
