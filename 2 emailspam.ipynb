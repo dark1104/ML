{
 "cells": [
  {
   "cell_type": "code",
   "execution_count": 4,
   "metadata": {},
   "outputs": [
    {
     "name": "stdout",
     "output_type": "stream",
     "text": [
      "\n",
      " Printing values of KNN classifire\n",
      "\n",
      "MAE:14.40\n",
      "\n",
      "MSE:14.40\n",
      "\n",
      "RMSE:3.79\n",
      "\n",
      "Accuracy:85.60\n",
      "\n",
      " Printing values of SVM classifire\n",
      "\n",
      "MAE:5.41\n",
      "\n",
      "MSE:5.41\n",
      "\n",
      "RMSE:2.33\n",
      "\n",
      "Accuracy:94.59\n"
     ]
    }
   ],
   "source": [
    "import pandas as pd \n",
    "import numpy as np\n",
    "\n",
    "df = pd.read_csv(r\"C:\\Users\\ganes\\Downloads\\ml\\New folder\\emails.csv\")\n",
    "df.head()\n",
    "x = df.drop(['Email No.', 'Prediction'], axis=1)\n",
    "y = df['Prediction']\n",
    "\n",
    "from sklearn.model_selection import train_test_split\n",
    "x_train, x_test, y_train, y_test = train_test_split(x,y,test_size=0.20, random_state=33)\n",
    "\n",
    "from sklearn.preprocessing import StandardScaler\n",
    "sc = StandardScaler()\n",
    "x_train = sc.fit_transform(x_train)\n",
    "x_test = sc.transform(x_test)\n",
    "\n",
    "from sklearn.preprocessing import MinMaxScaler\n",
    "sc = MinMaxScaler()\n",
    "x_train = sc.fit_transform(x_train)\n",
    "x_test = sc.transform(x_test)\n",
    "\n",
    "from sklearn.neighbors import KNeighborsClassifier\n",
    "classifire = KNeighborsClassifier(n_neighbors=5)\n",
    "classifire.fit(x_train,y_train)\n",
    "y_pred = classifire.predict(x_test)\n",
    "\n",
    "import sklearn.metrics as metrics\n",
    "mae = metrics.mean_absolute_error(y_test, y_pred)*100\n",
    "mse = metrics.mean_squared_error(y_test, y_pred)*100\n",
    "rmse = np.sqrt(mse)\n",
    "acc = metrics.accuracy_score(y_test, y_pred)*100\n",
    "print(\"\\n Printing values of KNN classifire\")\n",
    "print(\"\\nMAE:{:.2f}\".format(mae))\n",
    "print(\"\\nMSE:{:.2f}\".format(mse))\n",
    "print(\"\\nRMSE:{:.2f}\".format(rmse))\n",
    "print(\"\\nAccuracy:{:.2f}\".format(acc))\n",
    "\n",
    "from sklearn.svm import SVC\n",
    "classifire1 = SVC(kernel=\"rbf\", random_state=1)\n",
    "classifire1.fit(x_train, y_train)\n",
    "y_pred1 = classifire1.predict(x_test)\n",
    "mae1 = metrics.mean_absolute_error(y_test, y_pred1)*100\n",
    "mse1 = metrics.mean_squared_error(y_test, y_pred1)*100\n",
    "rmse1 = np.sqrt(mse1)\n",
    "acc1 = metrics.accuracy_score(y_test, y_pred1)*100\n",
    "print(\"\\n Printing values of SVM classifire\")\n",
    "print(\"\\nMAE:{:.2f}\".format(mae1))\n",
    "print(\"\\nMSE:{:.2f}\".format(mse1))\n",
    "print(\"\\nRMSE:{:.2f}\".format(rmse1))\n",
    "print(\"\\nAccuracy:{:.2f}\".format(acc1))"
   ]
  },
  {
   "cell_type": "code",
   "execution_count": null,
   "metadata": {},
   "outputs": [],
   "source": []
  }
 ],
 "metadata": {
  "kernelspec": {
   "display_name": "Python 3",
   "language": "python",
   "name": "python3"
  },
  "language_info": {
   "codemirror_mode": {
    "name": "ipython",
    "version": 3
   },
   "file_extension": ".py",
   "mimetype": "text/x-python",
   "name": "python",
   "nbconvert_exporter": "python",
   "pygments_lexer": "ipython3",
   "version": "3.7.7"
  }
 },
 "nbformat": 4,
 "nbformat_minor": 4
}
