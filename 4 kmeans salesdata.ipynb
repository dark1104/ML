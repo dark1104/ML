{
 "cells": [
  {
   "cell_type": "code",
   "execution_count": null,
   "metadata": {},
   "outputs": [],
   "source": [
    "import pandas as pd\n",
    "import numpy as np\n",
    "import matplotlib.pyplot as plt\n",
    "df = pd.read_csv(r\"C:\\Users\\ganes\\Downloads\\ml\\New folder\\sales_data_sample.csv\", encoding='Latin-1')\n",
    "df.info()\n",
    "x = df.iloc[:,[1,4]].values\n",
    "x\n",
    "from sklearn.cluster import KMeans\n",
    "#elbow method\n",
    "wcss_list = []\n",
    "for i in range(1,11):\n",
    "    kmeans = KMeans(n_clusters=i,init='k-means++', random_state=12)\n",
    "    kmeans.fit(x)\n",
    "    wcss_list.append(kmeans.inertia_)\n",
    "plt.plot(range(1,11), wcss_list)\n",
    "plt.title(\"Elbow Method Graph\")\n",
    "plt.xlabel('Number of clusters (k)')\n",
    "plt.ylabel('wcss_list')\n",
    "plt.show()\n",
    "# K-mean clustering\n",
    "kmeans = KMeans(n_clusters=3, init='k-means++', random_state=23)\n",
    "y_pred = kmeans.fit_predict(x)\n",
    "plt.scatter(x[y_pred==0,0], x[y_pred==0,1], c='blue',label='cluster 1')\n",
    "plt.scatter(x[y_pred==1,0], x[y_pred==1,1], c='red',label='cluster 2')\n",
    "plt.scatter(x[y_pred==2,0], x[y_pred==2,1], c='green',label='cluster 3')\n",
    "plt.title('K-means Clustering')\n",
    "plt.xlabel('Quantity Ordered')\n",
    "plt.ylabel('Sales')\n",
    "plt.legend()\n",
    "plt.show()"
   ]
  }
 ],
 "metadata": {
  "kernelspec": {
   "display_name": "Python 3",
   "language": "python",
   "name": "python3"
  },
  "language_info": {
   "codemirror_mode": {
    "name": "ipython",
    "version": 3
   },
   "file_extension": ".py",
   "mimetype": "text/x-python",
   "name": "python",
   "nbconvert_exporter": "python",
   "pygments_lexer": "ipython3",
   "version": "3.7.7"
  }
 },
 "nbformat": 4,
 "nbformat_minor": 4
}
